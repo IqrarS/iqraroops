{
 "cells": [
  {
   "cell_type": "code",
   "execution_count": 3,
   "id": "eee46d41",
   "metadata": {},
   "outputs": [
    {
     "name": "stdout",
     "output_type": "stream",
     "text": [
      "Title: Ashish\n",
      "Balance: 2500\n",
      "Balance: 2000\n",
      "InterestAmount: 100.0\n"
     ]
    }
   ],
   "source": [
    "class Account:\n",
    "    \n",
    "    def __init__(self, title=None, balance=0):\n",
    "        self.title = title\n",
    "        self.balance = balance\n",
    "    \n",
    "    def withdrawl(self,amount):\n",
    "        self.balance = self.balance - amount\n",
    "        print(\"Balance:\",self.balance) \n",
    "    def deposit(self,amount):\n",
    "        self.balance = self.balance + amount\n",
    "        print(\"Title:\",self.title) \n",
    "        print(\"Balance:\",self.balance)\n",
    "    def getbalance(self):\n",
    "        return self.balance    \n",
    "\n",
    "class SavingsAccount(Account):\n",
    "    \n",
    "    def __init__(self, title=None, balance=0, interestRate=0):\n",
    "        super().__init__(title, balance)\n",
    "        self.interestRate = interestRate\n",
    "    \n",
    "    def interestAmount(self):\n",
    "        self.interestAmount=self.interestRate*self.balance / 100\n",
    "        print(\"InterestAmount:\",self.interestAmount)\n",
    "        \n",
    "account1 = SavingsAccount(\"Ashish\",2000,5)\n",
    "account1.deposit(500)\n",
    "account1.withdrawl(500)\n",
    "account1.interestAmount()"
   ]
  }
 ],
 "metadata": {
  "kernelspec": {
   "display_name": "Python 3 (ipykernel)",
   "language": "python",
   "name": "python3"
  },
  "language_info": {
   "codemirror_mode": {
    "name": "ipython",
    "version": 3
   },
   "file_extension": ".py",
   "mimetype": "text/x-python",
   "name": "python",
   "nbconvert_exporter": "python",
   "pygments_lexer": "ipython3",
   "version": "3.9.13"
  }
 },
 "nbformat": 4,
 "nbformat_minor": 5
}
