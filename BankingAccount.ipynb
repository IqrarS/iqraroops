{
 "cells": [
  {
   "cell_type": "code",
   "execution_count": 9,
   "id": "2731baa5",
   "metadata": {},
   "outputs": [
    {
     "name": "stdout",
     "output_type": "stream",
     "text": [
      "Title: Ashish\n",
      "Balance: 5000\n",
      "250.0\n"
     ]
    }
   ],
   "source": [
    "class Account:\n",
    "    \n",
    "    def __init__(self, title=None, balance=0):\n",
    "        self.title = title\n",
    "        self.balance = balance\n",
    "    \n",
    "    def deposit(self,amount):\n",
    "        self.balance=self.balance + amount\n",
    "        print(\"Title:\",self.title)\n",
    "        print(\"Balance:\",self.balance)\n",
    "\n",
    "class SavingsAccount(Account):\n",
    "    \n",
    "    def __init__(self, title=None, balance=0, interestRate=0):\n",
    "        super().__init__(title,balance)\n",
    "        self.interestRate=interestRate\n",
    "    \n",
    "    def getbalance(self):\n",
    "        return self.balance\n",
    "        print(\"InterestAmount:\",self.interestAmount)\n",
    "    def interestAmount(self):\n",
    "        return(self.interestRate*self.getbalance()) / 100\n",
    "    \n",
    "account1 = SavingsAccount(\"Ashish\",0,5)\n",
    "account1.deposit(5000)\n",
    "print(account1.interestAmount())"
   ]
  },
  {
   "cell_type": "code",
   "execution_count": null,
   "id": "224ec214",
   "metadata": {},
   "outputs": [],
   "source": []
  }
 ],
 "metadata": {
  "kernelspec": {
   "display_name": "Python 3 (ipykernel)",
   "language": "python",
   "name": "python3"
  },
  "language_info": {
   "codemirror_mode": {
    "name": "ipython",
    "version": 3
   },
   "file_extension": ".py",
   "mimetype": "text/x-python",
   "name": "python",
   "nbconvert_exporter": "python",
   "pygments_lexer": "ipython3",
   "version": "3.9.13"
  }
 },
 "nbformat": 4,
 "nbformat_minor": 5
}
