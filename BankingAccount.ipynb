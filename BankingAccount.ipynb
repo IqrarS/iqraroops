{
 "cells": [
  {
   "cell_type": "code",
   "execution_count": 3,
   "id": "ff5cd4dd",
   "metadata": {},
   "outputs": [
    {
     "name": "stdout",
     "output_type": "stream",
     "text": [
      "Title: Ashish\n",
      "Balance: 5000\n",
      "InterestAmount: 250.0\n"
     ]
    }
   ],
   "source": [
    "class Account:\n",
    "    \n",
    "    def __init__(self, title=None, balance=0):\n",
    "        self.title = title\n",
    "        self.balance = balance\n",
    "    \n",
    "    def deposit(self,amount):\n",
    "        self.balance=self.balance + amount\n",
    "        print(\"Title:\",self.title)\n",
    "        print(\"Balance:\",self.balance)\n",
    "\n",
    "class SavingsAccount(Account):\n",
    "    \n",
    "    def __init__(self, title=None, balance=0, interestRate=0):\n",
    "        self.title = title\n",
    "        self.balance = balance\n",
    "        self.interestRate=interestRate\n",
    "        \n",
    "    def interestAmount(self):\n",
    "        self.interestAmount=self.interestRate*self.balance / 100\n",
    "        print(\"InterestAmount:\",self.interestAmount)\n",
    "    \n",
    "account1 = SavingsAccount(\"Ashish\",0,5)\n",
    "account1.deposit(5000)\n",
    "account1.interestAmount()"
   ]
  },
  {
   "cell_type": "code",
   "execution_count": null,
   "id": "5aa2c8cf",
   "metadata": {},
   "outputs": [],
   "source": []
  }
 ],
 "metadata": {
  "kernelspec": {
   "display_name": "Python 3 (ipykernel)",
   "language": "python",
   "name": "python3"
  },
  "language_info": {
   "codemirror_mode": {
    "name": "ipython",
    "version": 3
   },
   "file_extension": ".py",
   "mimetype": "text/x-python",
   "name": "python",
   "nbconvert_exporter": "python",
   "pygments_lexer": "ipython3",
   "version": "3.9.13"
  }
 },
 "nbformat": 4,
 "nbformat_minor": 5
}
