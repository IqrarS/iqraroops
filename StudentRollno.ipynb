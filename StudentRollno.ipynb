{
 "cells": [
  {
   "cell_type": "code",
   "execution_count": 5,
   "id": "1cb7ae03",
   "metadata": {},
   "outputs": [
    {
     "name": "stdout",
     "output_type": "stream",
     "text": [
      "Name: IQRAR\n",
      "RollNumber: 123\n"
     ]
    }
   ],
   "source": [
    "class Student:\n",
    "    \n",
    "    def setName(self,Name):\n",
    "        self.__Name = Name\n",
    "    def getName(self):\n",
    "        return self.__Name    \n",
    "    \n",
    "    def setRollNumber(self,RollNumber):\n",
    "        self.__RollNumber = RollNumber\n",
    "    def getRollNumber(self):\n",
    "        return self.__RollNumber\n",
    "    \n",
    "S1 = Student()\n",
    "S1.setName(\"IQRAR\")\n",
    "print(\"Name:\", S1.getName())\n",
    "S1.setRollNumber(\"123\")\n",
    "print(\"RollNumber:\", S1.getRollNumber())"
   ]
  }
 ],
 "metadata": {
  "kernelspec": {
   "display_name": "Python 3 (ipykernel)",
   "language": "python",
   "name": "python3"
  },
  "language_info": {
   "codemirror_mode": {
    "name": "ipython",
    "version": 3
   },
   "file_extension": ".py",
   "mimetype": "text/x-python",
   "name": "python",
   "nbconvert_exporter": "python",
   "pygments_lexer": "ipython3",
   "version": "3.9.13"
  }
 },
 "nbformat": 4,
 "nbformat_minor": 5
}
